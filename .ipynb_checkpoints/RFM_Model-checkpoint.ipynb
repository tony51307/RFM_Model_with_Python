{
 "cells": [
  {
   "cell_type": "markdown",
   "metadata": {},
   "source": [
    "# RFM Model\n",
    "\n",
    "#### What Is Recency, Frequency, Monetary Value (RFM)?\n",
    "Recency, frequency, monetary value is a marketing analysis tool used to identify a company's or an organization's best customers by using certain measures. The RFM model is based on three quantitative factors:\n",
    "\n",
    "Recency: How recently a customer has made a purchase\n",
    "Frequency: How often a customer makes a purchase\n",
    "Monetary Value: How much money a customer spends on purchases\n",
    "RFM analysis numerically ranks a customer in each of these three categories, generally on a scale of 1 to 5 (the higher the number, the better the result). The \"best\" customer would receive a top score in every category.\n",
    "\n",
    "For further information, please refer to https://www.investopedia.com/terms/r/rfm-recency-frequency-monetary-value.asp "
   ]
  },
  {
   "cell_type": "markdown",
   "metadata": {},
   "source": [
    "## Input data\n",
    "\n",
    "The datasets input here are customers list (customID, customName, customerPhone, customerEmail) and orders records (orderID, Date, customName, customPhone, customEmail, ProductName, Price). I will need to use these two datasets to calculate the Recentency, Frequency, and Monetary scores for customers."
   ]
  },
  {
   "cell_type": "code",
   "execution_count": 27,
   "metadata": {},
   "outputs": [
    {
     "name": "stdout",
     "output_type": "stream",
     "text": [
      "Inputting data...\n",
      "Data input successfully\n"
     ]
    }
   ],
   "source": [
    "import pandas as pd\n",
    "print('Inputting data...')\n",
    "try:\n",
    "    customer_data=pd.read_csv('customer_list.csv')\n",
    "    order_data=pd.read_csv('orders.csv',date_parser='Date')\n",
    "\n",
    "except:\n",
    "    print('Error: Cannot find customer_list.csv or orders.csv')\n",
    "    input('Press enter to leave')\n",
    "else:\n",
    "    print('Data input successfully')\n"
   ]
  },
  {
   "cell_type": "markdown",
   "metadata": {},
   "source": [
    "## Calculate the values for Recency, Frequency, and Monetary"
   ]
  },
  {
   "cell_type": "code",
   "execution_count": 10,
   "metadata": {},
   "outputs": [
    {
     "name": "stdout",
     "output_type": "stream",
     "text": [
      "Calculating recency...\n",
      "Calculating frequency...\n",
      "Calculating monetary...\n"
     ]
    }
   ],
   "source": [
    "from __future__ import division\n",
    "import sys,time\n",
    "from progressbar import *\n",
    "from datetime import date\n",
    "import time\n",
    "\n",
    "\n",
    "print(\"Calculating recency...\")\n",
    "print(\"Calculating frequency...\")\n",
    "print(\"Calculating monetary...\")"
   ]
  },
  {
   "cell_type": "code",
   "execution_count": 30,
   "metadata": {},
   "outputs": [
    {
     "name": "stderr",
     "output_type": "stream",
     "text": [
      "Progress: 100% |================================================| Time: 0:00:00\n"
     ]
    }
   ],
   "source": [
    "R=[]\n",
    "F=[]\n",
    "M=[]\n",
    "\n",
    "# find out the most recent date of purchaing for each customer\n",
    "def R_calculate(email):\n",
    "    datelist=list(order_data.loc[order_data['customEmail']==email,'Date'])\n",
    "    return (pd.to_datetime(date.today())-pd.to_datetime(datelist[-1])).days\n",
    "\n",
    "# find out how many times each customer has purchased from the company\n",
    "def F_calculate(email):\n",
    "    return (order_data['customEmail']==email).sum()\n",
    "\n",
    "# find out the average purchase price so far for each customer\n",
    "def M_calculate(email):\n",
    "    price=list(order_data.loc[order_data['customEmail']==email,'Price'])\n",
    "    return sum(price)/F[x]\n",
    "\n",
    "# Generate a progress bar to allow users to understand whether the program is running smoothly\n",
    "widgets = ['Progress: ', Percentage(), ' ', Bar(marker=RotatingMarker('=')),\n",
    "           ' ', ETA()]\n",
    "pbar = ProgressBar(widgets=widgets, maxval=len(customer_data)).start()\n",
    "\n",
    "for x in range(0,len(customer_data)):\n",
    "    R.append(R_calculate(customer_data.iloc[x,2]))\n",
    "    F.append(F_calculate(customer_data.iloc[x,2]))\n",
    "    M.append(M_calculate(customer_data.iloc[x,2]))\n",
    "\n",
    "pbar.finish()\n",
    "\n",
    "    \n",
    "customer_data['R']=R \n",
    "customer_data['F']=F\n",
    "customer_data['M']=M "
   ]
  },
  {
   "cell_type": "markdown",
   "metadata": {},
   "source": [
    "## Present the statistics \n",
    "\n",
    "As some purchasing records were from agents, they usually purchase more fequently and more expensively than our individual customers. Therefore, I utilized z-score to recognize outliers and remove them to ensure the resulted KPIs would be unbiased."
   ]
  },
  {
   "cell_type": "code",
   "execution_count": 31,
   "metadata": {},
   "outputs": [],
   "source": [
    "import scipy.stats\n",
    "new_customer_data=customer_data.copy()\n",
    "new_customer_data['Z']=scipy.stats.zscore(new_customer_data['M'])\n",
    "new_customer_data.drop(new_customer_data[abs(new_customer_data['Z'])>4].index,inplace=True)\n",
    "new_customer_data['Z']=scipy.stats.zscore(new_customer_data['F'])\n",
    "new_customer_data.drop(new_customer_data[abs(new_customer_data['Z'])>5].index,inplace=True)"
   ]
  },
  {
   "cell_type": "code",
   "execution_count": 38,
   "metadata": {},
   "outputs": [
    {
     "name": "stdout",
     "output_type": "stream",
     "text": [
      "\n",
      "==RFM Statistics==\n",
      "\n",
      "Total number of clients: 14\n",
      "                 R         F            M\n",
      "mean    259.428571  2.071429  1857.142857\n",
      "median  105.000000  2.000000  1750.000000\n",
      "max     835.000000  3.000000  3666.666667\n",
      "min      96.000000  1.000000   500.000000\n",
      "std     243.428939  0.916875  1011.910149\n",
      "\n"
     ]
    }
   ],
   "source": [
    "import statistics as stats\n",
    "import numpy as np\n",
    "import os\n",
    "\n",
    "table=new_customer_data[['R','F','M']].agg([np.mean,np.median,max,min,np.std])\n",
    "print()\n",
    "print('==RFM Statistics==')\n",
    "print()\n",
    "print(\"Total number of clients: \"+str(len(customer_data)))\n",
    "print(table)\n",
    "print()\n",
    "os.makedirs('./files',exist_ok=True)\n",
    "table.to_excel('./files/RFM統計量.xlsx', index= False)"
   ]
  },
  {
   "cell_type": "markdown",
   "metadata": {},
   "source": [
    "## Allow managers to type in the RFM criterias to classify customers\n",
    "\n",
    "As I would like to classify customers into different groups, I would like to divide customers into 8 groups based on their Recentency, Frequency, and Monetary scores. Therefore, here I allow users to self-enter the criterias for each scores to divide each feature into two groups. For example, if I set Recentency criteria as 100, then customers with heigher than 100 would be allocated to R-level 1, and customers with lower than 100 would be allocated to R-level 2."
   ]
  },
  {
   "cell_type": "code",
   "execution_count": 39,
   "metadata": {},
   "outputs": [
    {
     "name": "stdout",
     "output_type": "stream",
     "text": [
      "Please enter your criteria for R: 259\n",
      "Please enter your criteria for F: 2\n",
      "Please enter your criteria for M: 1750\n",
      "Are you sure?(y/n)y\n"
     ]
    }
   ],
   "source": [
    "import re\n",
    "\n",
    "# Set matching pattern for inputs to ensure there is no mistaken typing\n",
    "pattern1=re.compile('^[1-9]{1}[0-9]*$')\n",
    "pattern2=re.compile('[yYnN]{1}')\n",
    "\n",
    "R_criteria=0\n",
    "F_criteria=0\n",
    "M_criteria=0\n",
    "confirm='n'\n",
    "\n",
    "\n",
    "while confirm=='n' or confirm=='N':\n",
    "    typein=input('Please enter your criteria for R: ')\n",
    "    while bool(pattern1.match(typein))==False:\n",
    "        typein=input('Please enter only numberic characters for R: ')\n",
    "    R_criteria=int(typein)\n",
    "    \n",
    "    typein=input('Please enter your criteria for F: ')\n",
    "    while bool(pattern1.match(typein))==False:\n",
    "        typein=input('Please enter only numberic characters for F: ')\n",
    "    F_criteria=int(typein)\n",
    "    \n",
    "    typein=input('Please enter your criteria for M: ')\n",
    "    while bool(pattern1.match(typein))==False:\n",
    "        typein=input('Please enter only numberic characters for M: ')\n",
    "    M_criteria=int(typein)\n",
    "    \n",
    "    confirm=input('Are you sure?(y/n)')\n",
    "    while bool(pattern2.match(confirm))==False:\n",
    "            confirm=input('Please only enter y or n: ')\n"
   ]
  },
  {
   "cell_type": "markdown",
   "metadata": {},
   "source": [
    "## Start classifying customers"
   ]
  },
  {
   "cell_type": "code",
   "execution_count": 40,
   "metadata": {},
   "outputs": [
    {
     "name": "stdout",
     "output_type": "stream",
     "text": [
      "classifying customers...\n",
      "customers classified.\n"
     ]
    }
   ],
   "source": [
    "print(\"classifying customers...\")\n",
    "R_result=[]\n",
    "F_result=[]\n",
    "M_result=[]\n",
    "\n",
    "def R_result(n):\n",
    "    if n<=R_criteria:\n",
    "        return 2\n",
    "    elif n>R_criteria:\n",
    "        return 1\n",
    "    \n",
    "def F_result(n):\n",
    "    if n>F_criteria:\n",
    "        return 2\n",
    "    elif n<=F_criteria:\n",
    "        return 1\n",
    "    \n",
    "def M_result(n):\n",
    "    if n>=M_criteria:\n",
    "        return 2\n",
    "    elif n<M_criteria:\n",
    "        return 1\n",
    "    \n",
    "\n",
    "customer_data['R_Level']=customer_data['R'].apply(R_result)\n",
    "customer_data['F_Level']=customer_data['F'].apply(F_result)    \n",
    "customer_data['M_Level']=customer_data['M'].apply(M_result) \n",
    "print(\"customers classified.\")"
   ]
  },
  {
   "cell_type": "code",
   "execution_count": 41,
   "metadata": {},
   "outputs": [
    {
     "data": {
      "image/png": "[encoded data removed]",
      "text/plain": [
       "<Figure size 720x720 with 3 Axes>"
      ]
     },
     "metadata": {
      "needs_background": "light"
     },
     "output_type": "display_data"
    }
   ],
   "source": [
    "import matplotlib.pyplot as plt\n",
    "os.makedirs('./figures',exist_ok=True)\n",
    "R1=(np.array(customer_data['R_Level'])==1).sum()\n",
    "R2=(np.array(customer_data['R_Level'])==2).sum()\n",
    "F1=(np.array(customer_data['F_Level'])==1).sum()\n",
    "F2=(np.array(customer_data['F_Level'])==2).sum()\n",
    "M1=(np.array(customer_data['M_Level'])==1).sum()\n",
    "M2=(np.array(customer_data['M_Level'])==2).sum()\n",
    "\n",
    "plt.figure(figsize=(10,10))\n",
    "\n",
    "plt.style.use('seaborn')\n",
    "plt.subplot(221)\n",
    "plt.bar([0,1],[R1,R2])\n",
    "plt.xticks([0,1],['R1','R2'])\n",
    "plt.title('R Distribution')\n",
    "\n",
    "plt.subplot(222)\n",
    "plt.bar([0,1],[F1,F2])\n",
    "plt.xticks([0,1],['F1','F2'])\n",
    "plt.title('F Distribution')\n",
    "\n",
    "plt.subplot(223)\n",
    "plt.bar([0,1],[M1,M2])\n",
    "plt.xticks([0,1],['M1','M2'])\n",
    "plt.title('M Distribution')\n",
    "\n",
    "plt.savefig('figures/RFM_distribution.jpg')\n",
    "plt.show()"
   ]
  },
  {
   "cell_type": "code",
   "execution_count": 42,
   "metadata": {},
   "outputs": [
    {
     "name": "stdout",
     "output_type": "stream",
     "text": [
      "\n",
      "數量統計：\n",
      "R1 F1 M1: 1\n",
      "R1 F2 M1: 0\n",
      "R1 F1 M2: 2\n",
      "R1 F2 M2: 2\n",
      "R2 F2 M1: 2\n",
      "R2 F2 M2: 2\n",
      "R2 F1 M2: 2\n",
      "R2 F1 M1: 3\n",
      "\n"
     ]
    }
   ],
   "source": [
    "num111=0\n",
    "num121=0\n",
    "num122=0\n",
    "num112=0\n",
    "num222=0\n",
    "num221=0\n",
    "num212=0\n",
    "num211=0\n",
    "\n",
    "for x in range(0,len(customer_data)):\n",
    "    if customer_data.iloc[x,-1]==1 and customer_data.iloc[x,-2]==1 and customer_data.iloc[x,-3]==1:\n",
    "        num111+=1\n",
    "    elif customer_data.iloc[x,-1]==1 and customer_data.iloc[x,-2]==2 and customer_data.iloc[x,-3]==1:\n",
    "        num121+=1\n",
    "    elif customer_data.iloc[x,-1]==2 and customer_data.iloc[x,-2]==2 and customer_data.iloc[x,-3]==1:\n",
    "        num122+=1\n",
    "    elif customer_data.iloc[x,-1]==2 and customer_data.iloc[x,-2]==1 and customer_data.iloc[x,-3]==1:\n",
    "        num112+=1\n",
    "    elif customer_data.iloc[x,-1]==2 and customer_data.iloc[x,-2]==2 and customer_data.iloc[x,-3]==2:\n",
    "        num222+=1\n",
    "    elif customer_data.iloc[x,-1]==1 and customer_data.iloc[x,-2]==2 and customer_data.iloc[x,-3]==2:\n",
    "        num221+=1\n",
    "    elif customer_data.iloc[x,-1]==1 and customer_data.iloc[x,-2]==1 and customer_data.iloc[x,-3]==2:\n",
    "        num211+=1\n",
    "    elif customer_data.iloc[x,-1]==2 and customer_data.iloc[x,-2]==1 and customer_data.iloc[x,-3]==2:\n",
    "        num212+=1\n",
    "\n",
    "\n",
    "customer_class={}\n",
    "customer_class['Total']=[len(customer_data),num111,num121,num112,num122,num221,num222,num212,num211]\n",
    "print()\n",
    "print('Total numbers for each group：')\n",
    "print(\"R1 F1 M1: %d\" %num111)  \n",
    "print(\"R1 F2 M1: %d\" %num121)      \n",
    "print(\"R1 F1 M2: %d\" %num112)    \n",
    "print(\"R1 F2 M2: %d\" %num122)  \n",
    "print(\"R2 F2 M1: %d\" %num221)     \n",
    "print(\"R2 F2 M2: %d\" %num222)  \n",
    "print(\"R2 F1 M2: %d\" %num212)\n",
    "print(\"R2 F1 M1: %d\" %num211)\n",
    "print()\n"
   ]
  },
  {
   "cell_type": "code",
   "execution_count": 43,
   "metadata": {},
   "outputs": [
    {
     "name": "stdout",
     "output_type": "stream",
     "text": [
      "R_Level      1         2      All\n",
      "M_Level      1    2    1    2    \n",
      "F-Level 1  1.0  2.0  3.0  2.0   8\n",
      "F-Level 2  NaN  2.0  2.0  2.0   6\n",
      "Total      1.0  4.0  5.0  4.0  14\n"
     ]
    }
   ],
   "source": [
    "RFM_matrix=pd.pivot_table(customer_data,index='F_Level',values='F',columns=['R_Level','M_Level'],aggfunc='count',margins=True)\n",
    "RFM_matrix.reset_index()\n",
    "RFM_matrix.index=['F-Level 1','F-Level 2','Total']\n",
    "print(RFM_matrix)"
   ]
  },
  {
   "cell_type": "code",
   "execution_count": 44,
   "metadata": {},
   "outputs": [
    {
     "name": "stdout",
     "output_type": "stream",
     "text": [
      "VVIP(R=2 & M=2): 4\n",
      "VIP(R=2 & M=1): 5\n",
      "Normal(R=1): 5\n",
      "\n",
      "====================\n",
      "\n"
     ]
    }
   ],
   "source": [
    "customer_class['Total']=list(customer_class['Total'])+[np.nan,num211+num222,num211+num212,num111+num112+num122+num121]\n",
    "print(\"VVIP(R=2 & M=2): %d\" %(num212+num222))\n",
    "print(\"VIP(R=2 & M=1): %d\" %(num211+num221))\n",
    "print(\"Normal(R=1): %d\" %(num111+num121+num122+num112))\n",
    "print()\n",
    "print('='*20)\n",
    "print()"
   ]
  },
  {
   "cell_type": "markdown",
   "metadata": {},
   "source": [
    "## Finalize the customers classification based on their RFM scores"
   ]
  },
  {
   "cell_type": "code",
   "execution_count": 45,
   "metadata": {},
   "outputs": [],
   "source": [
    "def Customer_Status_Checker(x):\n",
    "    if customer_data.iloc[x,-4]==2 and customer_data.iloc[x,-2]==2:\n",
    "        return 'VVIP'\n",
    "    elif customer_data.iloc[x,-4]==2 and customer_data.iloc[x,-2]==1:\n",
    "        return 'VIP'\n",
    "    else:\n",
    "        return 'Normal'"
   ]
  },
  {
   "cell_type": "code",
   "execution_count": 46,
   "metadata": {},
   "outputs": [
    {
     "name": "stdout",
     "output_type": "stream",
     "text": [
      "customer_RFM.xlsx has been output.\n",
      "Thanks for using.\n",
      "Press enter to leave\n"
     ]
    },
    {
     "data": {
      "text/plain": [
       "''"
      ]
     },
     "execution_count": 46,
     "metadata": {},
     "output_type": "execute_result"
    }
   ],
   "source": [
    "# Provide each customers with labels\n",
    "customer_data['membership_status']=list(map(Customer_Status_Checker,range(0,len(customer_data))))\n",
    "customer_data.to_excel('./files/customer_RFM.xlsx', index= False)\n",
    "print(\"customer_RFM.xlsx has been output.\")\n",
    "print(\"Thanks for using.\")\n",
    "input('Press enter to leave')"
   ]
  },
  {
   "cell_type": "markdown",
   "metadata": {},
   "source": [
    "The datasets used here are very small because I made up them by myself and did not use real commercial data due to company privacy.\n",
    "\n",
    "I successfully used this program to help my internship company automatically calculate customers' values and conduct customer segmentation. I also pack this program into an executable file to allow managers to run the program any time they want without asking technical staffs to run Python code."
   ]
  },
  {
   "cell_type": "code",
   "execution_count": null,
   "metadata": {},
   "outputs": [],
   "source": []
  }
 ],
 "metadata": {
  "kernelspec": {
   "display_name": "Python 3",
   "language": "python",
   "name": "python3"
  },
  "language_info": {
   "codemirror_mode": {
    "name": "ipython",
    "version": 3
   },
   "file_extension": ".py",
   "mimetype": "text/x-python",
   "name": "python",
   "nbconvert_exporter": "python",
   "pygments_lexer": "ipython3",
   "version": "3.7.1"
  }
 },
 "nbformat": 4,
 "nbformat_minor": 2
}
